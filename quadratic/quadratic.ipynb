{
 "cells": [
  {
   "cell_type": "code",
   "execution_count": 1,
   "id": "6f34dd77-3697-4f39-a59e-f8ff30c4c8c9",
   "metadata": {},
   "outputs": [],
   "source": [
    "import tensorflow as tf\n",
    "from tensorflow import keras\n",
    "import pandas as pd\n",
    "import numpy as np"
   ]
  },
  {
   "cell_type": "code",
   "execution_count": null,
   "id": "5ea86366-601d-464e-8646-3e05c52332c6",
   "metadata": {},
   "outputs": [],
   "source": [
    "train_df = pd.read_csv(\"./data/train.csv\")\n",
    "np.random.shuffle(train_df.values)\n",
    "\n",
    "train_df.head()"
   ]
  },
  {
   "cell_type": "code",
   "execution_count": 8,
   "id": "7db6d806-9b9d-411a-9225-d11d03d54976",
   "metadata": {},
   "outputs": [],
   "source": [
    "train_x = np.column_stack((train_df.x.values, train_df.y.values))\n",
    "train_y = train_df.color.values"
   ]
  },
  {
   "cell_type": "code",
   "execution_count": 37,
   "id": "bdae6259-dea8-4a1a-a649-6c7865af4793",
   "metadata": {},
   "outputs": [],
   "source": [
    "model = keras.Sequential(\n",
    "    [keras.layers.Dense(32, input_shape = (2,), activation=\"relu\"),\n",
    "    keras.layers.Dense(32, activation=\"relu\"),\n",
    "    keras.layers.Dense(2, activation=\"sigmoid\")]\n",
    ")"
   ]
  },
  {
   "cell_type": "code",
   "execution_count": 38,
   "id": "0fa68184-aea9-4cf1-8003-1a3152371bab",
   "metadata": {},
   "outputs": [],
   "source": [
    "model.compile(optimizer = \"adam\",\n",
    "loss = keras.losses.SparseCategoricalCrossentropy(from_logits=True),\n",
    "             metrics=[\"accuracy\"])"
   ]
  },
  {
   "cell_type": "code",
   "execution_count": 39,
   "id": "6737902b-da4b-4041-a49a-b9e0d0701385",
   "metadata": {},
   "outputs": [
    {
     "name": "stdout",
     "output_type": "stream",
     "text": [
      "Epoch 1/8\n",
      "2000/2000 [==============================] - 3s 1ms/step - loss: 0.5276 - accuracy: 0.7585\n",
      "Epoch 2/8\n",
      "2000/2000 [==============================] - 3s 1ms/step - loss: 0.3006 - accuracy: 0.8785\n",
      "Epoch 3/8\n",
      "2000/2000 [==============================] - 3s 1ms/step - loss: 0.1947 - accuracy: 0.9293\n",
      "Epoch 4/8\n",
      "2000/2000 [==============================] - 3s 1ms/step - loss: 0.1165 - accuracy: 0.9605\n",
      "Epoch 5/8\n",
      "2000/2000 [==============================] - 3s 1ms/step - loss: 0.1039 - accuracy: 0.9635\n",
      "Epoch 6/8\n",
      "2000/2000 [==============================] - 3s 1ms/step - loss: 0.0694 - accuracy: 0.9765\n",
      "Epoch 7/8\n",
      "2000/2000 [==============================] - 3s 1ms/step - loss: 0.0771 - accuracy: 0.9768\n",
      "Epoch 8/8\n",
      "2000/2000 [==============================] - 3s 1ms/step - loss: 0.0533 - accuracy: 0.9843\n"
     ]
    },
    {
     "data": {
      "text/plain": [
       "<keras.callbacks.History at 0x1d9f38236d0>"
      ]
     },
     "execution_count": 39,
     "metadata": {},
     "output_type": "execute_result"
    }
   ],
   "source": [
    "model.fit(train_x, train_y, batch_size = 2, epochs=8)"
   ]
  },
  {
   "cell_type": "code",
   "execution_count": 40,
   "id": "58d110da-ab35-42c3-916a-5b1eb12e049e",
   "metadata": {},
   "outputs": [],
   "source": [
    "test_df = pd.read_csv(\"./data/test.csv\")\n",
    "test_x = np.column_stack((test_df.x.values, test_df.y.values))\n",
    "test_y = test_df.color.values"
   ]
  },
  {
   "cell_type": "code",
   "execution_count": 41,
   "id": "09120512-7353-40fe-b4a8-fb91e37b8150",
   "metadata": {},
   "outputs": [
    {
     "name": "stdout",
     "output_type": "stream",
     "text": [
      "32/32 [==============================] - 0s 1ms/step - loss: 0.0158 - accuracy: 0.9990\n"
     ]
    },
    {
     "name": "stderr",
     "output_type": "stream",
     "text": [
      "C:\\Users\\erend\\AppData\\Local\\Programs\\Python\\Python310\\lib\\site-packages\\tensorflow\\python\\util\\dispatch.py:1082: UserWarning: \"`sparse_categorical_crossentropy` received `from_logits=True`, but the `output` argument was produced by a sigmoid or softmax activation and thus does not represent logits. Was this intended?\"\n",
      "  return dispatch_target(*args, **kwargs)\n"
     ]
    },
    {
     "data": {
      "text/plain": [
       "[0.015832534059882164, 0.9990000128746033]"
      ]
     },
     "execution_count": 41,
     "metadata": {},
     "output_type": "execute_result"
    }
   ],
   "source": [
    "model.evaluate(test_x, test_y)"
   ]
  },
  {
   "cell_type": "code",
   "execution_count": null,
   "id": "ecd12a8e-4539-4dfa-8a94-38e60797d281",
   "metadata": {},
   "outputs": [],
   "source": []
  }
 ],
 "metadata": {
  "kernelspec": {
   "display_name": "Python 3 (ipykernel)",
   "language": "python",
   "name": "python3"
  },
  "language_info": {
   "codemirror_mode": {
    "name": "ipython",
    "version": 3
   },
   "file_extension": ".py",
   "mimetype": "text/x-python",
   "name": "python",
   "nbconvert_exporter": "python",
   "pygments_lexer": "ipython3",
   "version": "3.10.5"
  }
 },
 "nbformat": 4,
 "nbformat_minor": 5
}

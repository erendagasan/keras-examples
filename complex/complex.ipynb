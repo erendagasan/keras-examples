{
 "cells": [
  {
   "cell_type": "code",
   "execution_count": null,
   "id": "6f34dd77-3697-4f39-a59e-f8ff30c4c8c9",
   "metadata": {},
   "outputs": [],
   "source": [
    "import tensorflow as tf\n",
    "from tensorflow import keras\n",
    "import pandas as pd\n",
    "import numpy as np"
   ]
  },
  {
   "cell_type": "code",
   "execution_count": null,
   "id": "5ea86366-601d-464e-8646-3e05c52332c6",
   "metadata": {},
   "outputs": [],
   "source": [
    "train_df = pd.read_csv(\"./data/train.csv\")\n",
    "np.random.shuffle(train_df.values)\n",
    "\n",
    "train_df.head()"
   ]
  },
  {
   "cell_type": "code",
   "execution_count": null,
   "id": "7db6d806-9b9d-411a-9225-d11d03d54976",
   "metadata": {},
   "outputs": [],
   "source": [
    "train_x = np.column_stack((train_df.x.values, train_df.y.values))\n",
    "train_y = train_df.color.values"
   ]
  },
  {
   "cell_type": "code",
   "execution_count": null,
   "id": "bdae6259-dea8-4a1a-a649-6c7865af4793",
   "metadata": {},
   "outputs": [],
   "source": [
    "model = keras.Sequential(\n",
    "    [keras.layers.Dense(128, input_shape = (2,), activation=\"relu\"),\n",
    "    keras.layers.Dense(128, activation=\"relu\"),\n",
    "    keras.layers.Dropout(0.2),\n",
    "    keras.layers.Dense(2, activation=\"sigmoid\")]\n",
    ")"
   ]
  },
  {
   "cell_type": "code",
   "execution_count": null,
   "id": "0fa68184-aea9-4cf1-8003-1a3152371bab",
   "metadata": {},
   "outputs": [],
   "source": [
    "model.compile(optimizer = \"adam\",\n",
    "loss = keras.losses.SparseCategoricalCrossentropy(from_logits=True),\n",
    "             metrics=[\"accuracy\"])"
   ]
  },
  {
   "cell_type": "code",
   "execution_count": null,
   "id": "6737902b-da4b-4041-a49a-b9e0d0701385",
   "metadata": {},
   "outputs": [],
   "source": [
    "model.fit(train_x, train_y, batch_size = 2, epochs=8)"
   ]
  },
  {
   "cell_type": "code",
   "execution_count": null,
   "id": "58d110da-ab35-42c3-916a-5b1eb12e049e",
   "metadata": {},
   "outputs": [],
   "source": [
    "test_df = pd.read_csv(\"./data/test.csv\")\n",
    "test_x = np.column_stack((test_df.x.values, test_df.y.values))\n",
    "test_y = test_df.color.values"
   ]
  },
  {
   "cell_type": "code",
   "execution_count": null,
   "id": "09120512-7353-40fe-b4a8-fb91e37b8150",
   "metadata": {},
   "outputs": [],
   "source": [
    "model.evaluate(test_x, test_y)"
   ]
  }
 ],
 "metadata": {
  "kernelspec": {
   "display_name": "Python 3 (ipykernel)",
   "language": "python",
   "name": "python3"
  },
  "language_info": {
   "codemirror_mode": {
    "name": "ipython",
    "version": 3
   },
   "file_extension": ".py",
   "mimetype": "text/x-python",
   "name": "python",
   "nbconvert_exporter": "python",
   "pygments_lexer": "ipython3",
   "version": "3.10.5"
  }
 },
 "nbformat": 4,
 "nbformat_minor": 5
}
